{
 "cells": [
  {
   "cell_type": "code",
   "execution_count": 3,
   "id": "8018385f",
   "metadata": {},
   "outputs": [
    {
     "name": "stdout",
     "output_type": "stream",
     "text": [
      "number 1 :20\n",
      "number 2 :10\n",
      "20*10=200 20/10=2.0\n"
     ]
    }
   ],
   "source": [
    "# 1) Write a program to accept two numbers from the user and calculate multiplication, division\n",
    "\n",
    "x=int(input(\"number 1 :\"))\n",
    "y=int(input(\"number 2 :\"))\n",
    "print('{}*{}={}'.format(x,y,x*y),'{}/{}={}'.format(x,y,x/y))"
   ]
  },
  {
   "cell_type": "code",
   "execution_count": 9,
   "id": "4958caee",
   "metadata": {},
   "outputs": [
    {
     "name": "stdout",
     "output_type": "stream",
     "text": [
      "Even characters: ['a', 'c', 'e', 'g', 'i']\n"
     ]
    }
   ],
   "source": [
    "# 2) Write a python program to print the characters from a string that are present at an even index\n",
    "\n",
    "x=\"abcdefghij\"\n",
    "even_chars = []\n",
    "for i in range(len(x)):\n",
    "    if i % 2 == 0:\n",
    "        even_chars.append(x[i])\n",
    "print('Even characters: {}'.format(even_chars))"
   ]
  },
  {
   "cell_type": "code",
   "execution_count": 10,
   "id": "69b0b7b4",
   "metadata": {},
   "outputs": [
    {
     "name": "stdout",
     "output_type": "stream",
     "text": [
      "Even characters: ['b', 'd', 'f', 'h', 'j']\n"
     ]
    }
   ],
   "source": [
    "# 3) Write a python program to print the characters from a string that are present at an odd index\n",
    "\n",
    "x=\"abcdefghij\"\n",
    "odd_chars = []\n",
    "for i in range(len(x)):\n",
    "    if i % 2 != 0:\n",
    "        odd_chars.append(x[i])\n",
    "print('Even characters: {}'.format(odd_chars))"
   ]
  },
  {
   "cell_type": "code",
   "execution_count": 18,
   "id": "a2735e61",
   "metadata": {},
   "outputs": [
    {
     "name": "stdout",
     "output_type": "stream",
     "text": [
      "Enter first number 3\n",
      "Enter second number 7\n",
      "3 - 7 = -4\n"
     ]
    }
   ],
   "source": [
    "# 4) Write a python program which will print the sum of the two numbers if the two numbers are even or it will print the difference of two numbers\n",
    "\n",
    "\n",
    "p=int(input(\"Enter first number \"))\n",
    "q=int(input(\"Enter second number \"))\n",
    "if p%2==0 and q%2==0:\n",
    "    print(\"{} + {} = {}\".format(p,q,p+q))\n",
    "else:\n",
    "    print(\"{} - {} = {}\".format(p,q,p-q))"
   ]
  },
  {
   "cell_type": "code",
   "execution_count": 19,
   "id": "0bd61abc",
   "metadata": {},
   "outputs": [
    {
     "name": "stdout",
     "output_type": "stream",
     "text": [
      "rajkumar\n",
      " rAjKuMaR\n"
     ]
    }
   ],
   "source": [
    "# 5) Write a python program to convert all even indexed alphabets to upper and odd indexed char\n",
    "\n",
    "\n",
    "str1=input()\n",
    "x=\" \"\n",
    "for char in range(len(str1)):\n",
    "    if char%2==0:\n",
    "        x=x+str1[char].lower()\n",
    "    else:\n",
    "        x=x+str1[char].upper()\n",
    "print(x)"
   ]
  },
  {
   "cell_type": "code",
   "execution_count": 1,
   "id": "309d1d38",
   "metadata": {},
   "outputs": [
    {
     "name": "stdout",
     "output_type": "stream",
     "text": [
      "Enter any number : 50\n",
      "True\n"
     ]
    }
   ],
   "source": [
    "# 6) Write a python program which will print True if the input number is divisible by 5 or else False\n",
    "\n",
    "\n",
    "num=int(input(\"Enter any number : \"))\n",
    "if num%5==0:\n",
    "    print(True)\n",
    "else:\n",
    "    print(False)"
   ]
  },
  {
   "cell_type": "code",
   "execution_count": 5,
   "id": "8336bd3a",
   "metadata": {},
   "outputs": [
    {
     "name": "stdout",
     "output_type": "stream",
     "text": [
      "Number 1 :- 6\n",
      "Number 2 :- 78\n"
     ]
    },
    {
     "data": {
      "text/plain": [
       "'The sum of 6 and 78 is  84'"
      ]
     },
     "execution_count": 5,
     "metadata": {},
     "output_type": "execute_result"
    }
   ],
   "source": [
    "# 7) Given two integer numbers return their product only if the product is greater than 1000, else return their sum\n",
    "\n",
    "\n",
    "num1=int(input(\"Number 1 :- \"))\n",
    "num2=int(input(\"Number 2 :- \"))\n",
    "\n",
    "def raj(num1,num2):\n",
    "    if num1*num2 > 1000:\n",
    "        return \"The product of {} and {} is  {}\".format(num1,num2,num1*num2)\n",
    "    else:\n",
    "        return \"The sum of {} and {} is  {}\".format(num1,num2,num1+num2)\n",
    "\n",
    "raj(num1,num2)"
   ]
  },
  {
   "cell_type": "code",
   "execution_count": 6,
   "id": "71e34e58",
   "metadata": {},
   "outputs": [
    {
     "name": "stdout",
     "output_type": "stream",
     "text": [
      "pytho\n",
      "javas\n",
      "\n",
      "\n",
      "pjtvos\n"
     ]
    }
   ],
   "source": [
    "# 8) Given two strings x, y writes a program to return a new string made of x and y’s first, middle, and last characters\n",
    "#    Example: Input X=” pytho” Y=” javas” Output ” pjtvos”\n",
    "\n",
    "\n",
    "x=input()\n",
    "y=input()\n",
    "def raj(x,y):\n",
    "    ma=int(len(x)/2)\n",
    "    mb=int(len(y)/2)\n",
    "    print(\"\\n\")\n",
    "    print(x[0]+y[0]+x[ma]+y[mb]+x[-1]+y[-1])\n",
    "raj(x,y)"
   ]
  },
  {
   "cell_type": "code",
   "execution_count": 8,
   "id": "96e08808",
   "metadata": {},
   "outputs": [
    {
     "name": "stdout",
     "output_type": "stream",
     "text": [
      "Please enter your names here : Name1:-“person1” Name2:-“person2” Name3:-“person3”\n",
      " Name1:-“person1”\n",
      " Name2:-“person2”\n",
      " Name3:-“person3”\n"
     ]
    }
   ],
   "source": [
    "# 9) Write a python program to take three names as input from a user in the single input () function call\n",
    "\n",
    "\n",
    "name=input(\"Please enter your names here : \")\n",
    "raj=name.split()\n",
    "for sunny in raj:\n",
    "    print(\" {}\".format(sunny))"
   ]
  },
  {
   "cell_type": "code",
   "execution_count": 9,
   "id": "607ec7c2",
   "metadata": {},
   "outputs": [
    {
     "name": "stdout",
     "output_type": "stream",
     "text": [
      "Please enter your names here : hajshshajahahahaaaa\n",
      "hajs@s@aja@a@a@aaaa\n"
     ]
    }
   ],
   "source": [
    "# 10) Write a Python program to get a string from a given string where all occurrences of its first char have been changed to '@', except the first char itself\n",
    "\n",
    "\n",
    "name=input(\"Please enter your names here : \")\n",
    "a=name[0]\n",
    "b=name[1:]\n",
    "c=b.replace(a,\"@\")\n",
    "print(a+c)"
   ]
  },
  {
   "cell_type": "code",
   "execution_count": 12,
   "id": "f7af1e3c",
   "metadata": {},
   "outputs": [
    {
     "name": "stdout",
     "output_type": "stream",
     "text": [
      "Please enter the string here : going\n",
      "goly\n"
     ]
    }
   ],
   "source": [
    "# 11) Write a Python program to add 'ing' at the end of a given string (string length should be equal to or more than 3). If the given string already ends with 'ing' then add 'ly' instead. If the string length of the given string is less than 3, leave it unchanged\n",
    "\n",
    "\n",
    "name=input(\"Please enter the string here : \")\n",
    "if len(name)<3:\n",
    "    print(name)\n",
    "elif len(name)>=3:\n",
    "    if name[-3:]==\"ing\":\n",
    "        print(name.replace(\"ing\",\"ly\"))\n",
    "    else:\n",
    "        print(name+\"ing\")"
   ]
  },
  {
   "cell_type": "code",
   "execution_count": 13,
   "id": "e6f89666",
   "metadata": {},
   "outputs": [
    {
     "name": "stdout",
     "output_type": "stream",
     "text": [
      "num1 : 6\n",
      "num2 : 5\n",
      "False\n"
     ]
    }
   ],
   "source": [
    "# 12) Write a python program that accepts two inputs num1 and num2 print True if one of them is 10 or if their sum is 10 otherwise print False\n",
    "\n",
    "\n",
    "num1=int(input(\"num1 : \"))\n",
    "num2=int(input(\"num2 : \"))\n",
    "if num1==10 or num2==10 or num1+num2==10:\n",
    "    print(True)\n",
    "else:\n",
    "    print(False)"
   ]
  },
  {
   "cell_type": "code",
   "execution_count": 15,
   "id": "9113ffab",
   "metadata": {},
   "outputs": [
    {
     "name": "stdout",
     "output_type": "stream",
     "text": [
      "1\n",
      "4\n",
      "56\n",
      "False\n"
     ]
    }
   ],
   "source": [
    "# 13) Write a python program that accepts three inputs x, y and z print True if x*y>z otherwise False\n",
    "\n",
    "\n",
    "x=int(input())\n",
    "y=int(input())\n",
    "z=int(input())\n",
    "if x*y>z:\n",
    "    print(True)\n",
    "else:\n",
    "    print(False)"
   ]
  },
  {
   "cell_type": "code",
   "execution_count": 17,
   "id": "b80a76ec",
   "metadata": {},
   "outputs": [
    {
     "name": "stdout",
     "output_type": "stream",
     "text": [
      "raj\n",
      "sunny\n",
      "False\n"
     ]
    }
   ],
   "source": [
    "# 14) Write a python program that accepts two strings inputs return True depending on whether the total number of characters in the first string is equal to the total number of characters in the second string\n",
    "\n",
    "\n",
    "string1=input()\n",
    "string2=input()\n",
    "if len(string1)==len(string2):\n",
    "    print(True)\n",
    "else:\n",
    "    print(False)"
   ]
  },
  {
   "cell_type": "code",
   "execution_count": 20,
   "id": "dc23a33d",
   "metadata": {},
   "outputs": [
    {
     "name": "stdout",
     "output_type": "stream",
     "text": [
      "raj\n",
      "raj raj raj\n"
     ]
    }
   ],
   "source": [
    "# 15) Write a python program that takes a string input, we'll say that the front is the first three characters of the string. If the string length is less than three characters, the front is whatever is there. Return a new string, which is three copies of the front\n",
    "\n",
    "\n",
    "string=input()\n",
    "if len(string)<3:\n",
    "    print(string)\n",
    "else:\n",
    "    front=string[0:3]\n",
    "    print(front,front,front)"
   ]
  },
  {
   "cell_type": "code",
   "execution_count": 22,
   "id": "56423b71",
   "metadata": {},
   "outputs": [
    {
     "name": "stdout",
     "output_type": "stream",
     "text": [
      "raj\n",
      "The given word raj is not a plural \n"
     ]
    }
   ],
   "source": [
    "# 16) Write a python program that takes in a word and determines whether or not it is plural. A plural word is one that ends in \"s\".\n",
    "\n",
    "\n",
    "word=input()\n",
    "if word[-1]==\"s\" or word[-1]==\"S\":\n",
    "    print(\"The given word {} is plural \".format(word))\n",
    "else:\n",
    "    print(\"The given word {} is not a plural \".format(word))"
   ]
  },
  {
   "cell_type": "code",
   "execution_count": 23,
   "id": "269a07f3",
   "metadata": {},
   "outputs": [
    {
     "name": "stdout",
     "output_type": "stream",
     "text": [
      "Enter yourraj\n",
      "please provide your age : 22\n",
      "provide bar tender is in break or not?\n",
      "type y or nn\n",
      "Bartender is not taking Break!\n",
      "The bartender serves drink to raj\n"
     ]
    }
   ],
   "source": [
    "# 17) A bartender is writing a simple program to determine whether he should serve drinks to someone. He only serves drinks to people 18 and older and when he's not on break (True means break and False means not a break time). Given the person's age, and whether break time is in session, create a python program which prints whether he should serve drinks or not.\n",
    "\n",
    "\n",
    "name=input(\"Enter your\")\n",
    "age=int(input(\"please provide your age : \"))\n",
    "print(\"provide bar tender is in break or not?\")\n",
    "b=input(\"type y or n\")\n",
    "if b==\"n\" or b==\"N\":\n",
    "    print(\"Bartender is not taking Break!\")\n",
    "    if age >=18:\n",
    "        print(\"The bartender serves drink to {}\".format(name))\n",
    "    else:\n",
    "        print(\"The bartender will not serves drink to {}\".format(name))\n",
    "if b==\"Y\" or b==\"y\":\n",
    "    print(\"The bartender serves drink to {}\".format(name))"
   ]
  },
  {
   "cell_type": "code",
   "execution_count": 1,
   "id": "1f9facde",
   "metadata": {},
   "outputs": [
    {
     "name": "stdout",
     "output_type": "stream",
     "text": [
      "Please enter your name : shiva\n",
      "shiva is Father to Manoj Kumar.\n"
     ]
    }
   ],
   "source": [
    "# 18) Manoj Kumar has family and friends. Help him remind them who is who. Given a string with a name, return the relation of that person to Manoj Kumar.\n",
    "#     Shiva father ,Letha mother ,Tarun brother\n",
    "\n",
    "\n",
    "person=input(\"Please enter your name : \")\n",
    "data={\"shiva\":\"Father\",\"letha\":\"Mother\",\"vasavi\":\"Sister\",\"tarun\":\"Brother\"}\n",
    "if person in data:\n",
    "    print(\"{} is {} to Manoj Kumar.\".format(person,data[person]))\n",
    "else:\n",
    "    relation=input(\"Please provide your relation with Manoj Kumar : \")\n",
    "    if relation!=\"friend\" or relation!=\"Friend\":\n",
    "        data.update({person:relation})\n",
    "        print(\"{} is {} to Manoj Kumar.\".format(person,data[person]))\n",
    "    else:\n",
    "        print(\"{} is friend to Manoj Kumar.\".format(person))"
   ]
  },
  {
   "cell_type": "code",
   "execution_count": 4,
   "id": "dbd5f1f3",
   "metadata": {},
   "outputs": [
    {
     "name": "stdout",
     "output_type": "stream",
     "text": [
      "abcdefghijklmnopqrstuvwxyz!@#$(*&^%\n",
      "aeioubcdfghjklmnpqrstvwxyz!@#$(*&^%\n"
     ]
    }
   ],
   "source": [
    "# 19) Write a python program that takes a string, breaks it up and returns it with vowels first, consonants second. For any character that's not a vowel (like special characters or spaces), treat them like consonants\n",
    "\n",
    "\n",
    "x=input()\n",
    "y=\"\"\n",
    "z=\"\"\n",
    "for s in x:\n",
    "    if s in [\"a\",\"e\",\"i\",\"o\",\"u\",\"A\",\"E\",\"I\",\"O\",\"U\"]:\n",
    "        y+=s\n",
    "    else:\n",
    "        z+=s\n",
    "print(y+z)"
   ]
  },
  {
   "cell_type": "code",
   "execution_count": 1,
   "id": "df85495c",
   "metadata": {},
   "outputs": [
    {
     "name": "stdout",
     "output_type": "stream",
     "text": [
      "number 1 : 10\n",
      "operator : +\n",
      "number 2 : 20\n",
      "30\n"
     ]
    }
   ],
   "source": [
    "# 20) Create a dynamic calculator which asks for numbers and operator and return the answers\n",
    "\n",
    "\n",
    "num1=int(input(\"number 1 : \"))\n",
    "x=input(\"operator : \")\n",
    "num2=int(input(\"number 2 : \"))\n",
    "if x==\"+\":\n",
    "    print(num1+num2)\n",
    "elif x==\"-\":\n",
    "    print(num1-num2)\n",
    "elif x==\"*\":\n",
    "    print(num1*num2)\n",
    "elif x==\"/\":\n",
    "    print(num1/num2)\n",
    "elif x==\"**\":\n",
    "    print(num1**num2)\n",
    "else:\n",
    "    print(\"You have given wrong input.\")"
   ]
  },
  {
   "cell_type": "code",
   "execution_count": null,
   "id": "fb90c3eb",
   "metadata": {},
   "outputs": [],
   "source": []
  }
 ],
 "metadata": {
  "kernelspec": {
   "display_name": "Python 3 (ipykernel)",
   "language": "python",
   "name": "python3"
  },
  "language_info": {
   "codemirror_mode": {
    "name": "ipython",
    "version": 3
   },
   "file_extension": ".py",
   "mimetype": "text/x-python",
   "name": "python",
   "nbconvert_exporter": "python",
   "pygments_lexer": "ipython3",
   "version": "3.9.7"
  }
 },
 "nbformat": 4,
 "nbformat_minor": 5
}
